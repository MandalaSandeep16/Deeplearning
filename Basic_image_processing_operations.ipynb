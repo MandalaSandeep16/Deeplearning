{
  "nbformat": 4,
  "nbformat_minor": 0,
  "metadata": {
    "colab": {
      "provenance": [],
      "mount_file_id": "1iwVoAMtA-E9Kq9SPF3UXNAA5nwz0EFkE",
      "authorship_tag": "ABX9TyP/VCE0ZcaY9wBtzK+FgjrS",
      "include_colab_link": true
    },
    "kernelspec": {
      "name": "python3",
      "display_name": "Python 3"
    },
    "language_info": {
      "name": "python"
    }
  },
  "cells": [
    {
      "cell_type": "markdown",
      "metadata": {
        "id": "view-in-github",
        "colab_type": "text"
      },
      "source": [
        "<a href=\"https://colab.research.google.com/github/MandalaSandeep16/Deeplearning/blob/main/Basic_image_processing_operations.ipynb\" target=\"_parent\"><img src=\"https://colab.research.google.com/assets/colab-badge.svg\" alt=\"Open In Colab\"/></a>"
      ]
    },
    {
      "cell_type": "code",
      "execution_count": null,
      "metadata": {
        "id": "nrUmgaQSwP2l"
      },
      "outputs": [],
      "source": [
        "import cv2\n",
        "import numpy as np\n",
        "from matplotlib import pyplot as plt\n"
      ]
    },
    {
      "cell_type": "code",
      "source": [
        "image_path = \"/content/drive/MyDrive/DEEP LEARNING/download.jpg\"\n",
        "original_image = cv2.imread(image_path, cv2.IMREAD_GRAYSCALE)"
      ],
      "metadata": {
        "id": "-WlPeDeRxGx2"
      },
      "execution_count": null,
      "outputs": []
    },
    {
      "cell_type": "code",
      "source": [
        "import cv2\n",
        "import numpy as np\n",
        "from matplotlib import pyplot as plt\n",
        "image_path = \"/content/drive/MyDrive/DEEP LEARNING/download.jpg\"\n",
        "original_image = cv2.imread(image_path, cv2.IMREAD_GRAYSCALE)\n",
        "plt.figure(figsize=(8, 8))\n",
        "plt.subplot(2, 3, 1)\n",
        "plt.imshow(original_image, cmap='gray')\n",
        "plt.title('Original Image')\n",
        "\n",
        "\n",
        "equalized_image = cv2.equalizeHist(original_image)\n",
        "plt.subplot(2, 3, 2)\n",
        "plt.imshow(equalized_image, cmap='gray')\n",
        "plt.title('Histogram Equalization')\n",
        "\n",
        "# Thresholding\n",
        "_, thresholded_image = cv2.threshold(original_image, 128, 255, cv2.THRESH_BINARY)\n",
        "plt.subplot(2, 3, 3)\n",
        "plt.imshow(thresholded_image, cmap='gray')\n",
        "plt.title('Thresholding')\n",
        "\n",
        "# Edge Detection (using Canny)\n",
        "edges = cv2.Canny(original_image, 100, 200)\n",
        "plt.subplot(2, 3, 4)\n",
        "plt.imshow(edges, cmap='gray')\n",
        "plt.title('Edge Detection')\n",
        "\n",
        "# Data Augmentation (rotate image)\n",
        "rows, cols = original_image.shape\n",
        "rotation_matrix = cv2.getRotationMatrix2D((cols / 2, rows / 2), 45, 1)\n",
        "rotated_image = cv2.warpAffine(original_image, rotation_matrix, (cols, rows))\n",
        "plt.subplot(2, 3, 5)\n",
        "plt.imshow(rotated_image, cmap='gray')\n",
        "plt.title('Data Augmentation Rotation')\n",
        "\n",
        "# Morphological Operations (Dilation)\n",
        "kernel = np.ones((5, 5), np.uint8)\n",
        "dilated_image = cv2.dilate(original_image, kernel, iterations=1)\n",
        "plt.subplot(2, 3, 6)\n",
        "plt.imshow(dilated_image, cmap='gray')\n",
        "plt.title('Morphological Operation Dilation')\n",
        "\n",
        "# Show the plots\n",
        "plt.tight_layout()\n",
        "plt.show()"
      ],
      "metadata": {
        "colab": {
          "base_uri": "https://localhost:8080/",
          "height": 211
        },
        "id": "FK6HP68j4Db9",
        "outputId": "d2e099a8-d908-4719-f8b1-1e36e8b826e0"
      },
      "execution_count": null,
      "outputs": [
        {
          "output_type": "error",
          "ename": "NameError",
          "evalue": "name 'plt' is not defined",
          "traceback": [
            "\u001b[0;31m---------------------------------------------------------------------------\u001b[0m",
            "\u001b[0;31mNameError\u001b[0m                                 Traceback (most recent call last)",
            "\u001b[0;32m<ipython-input-2-5e2649b82b3a>\u001b[0m in \u001b[0;36m<cell line: 1>\u001b[0;34m()\u001b[0m\n\u001b[0;32m----> 1\u001b[0;31m \u001b[0mplt\u001b[0m\u001b[0;34m.\u001b[0m\u001b[0mfigure\u001b[0m\u001b[0;34m(\u001b[0m\u001b[0mfigsize\u001b[0m\u001b[0;34m=\u001b[0m\u001b[0;34m(\u001b[0m\u001b[0;36m8\u001b[0m\u001b[0;34m,\u001b[0m \u001b[0;36m8\u001b[0m\u001b[0;34m)\u001b[0m\u001b[0;34m)\u001b[0m\u001b[0;34m\u001b[0m\u001b[0;34m\u001b[0m\u001b[0m\n\u001b[0m\u001b[1;32m      2\u001b[0m \u001b[0mplt\u001b[0m\u001b[0;34m.\u001b[0m\u001b[0msubplot\u001b[0m\u001b[0;34m(\u001b[0m\u001b[0;36m2\u001b[0m\u001b[0;34m,\u001b[0m \u001b[0;36m3\u001b[0m\u001b[0;34m,\u001b[0m \u001b[0;36m1\u001b[0m\u001b[0;34m)\u001b[0m\u001b[0;34m\u001b[0m\u001b[0;34m\u001b[0m\u001b[0m\n\u001b[1;32m      3\u001b[0m \u001b[0mplt\u001b[0m\u001b[0;34m.\u001b[0m\u001b[0mimshow\u001b[0m\u001b[0;34m(\u001b[0m\u001b[0moriginal_image\u001b[0m\u001b[0;34m,\u001b[0m \u001b[0mcmap\u001b[0m\u001b[0;34m=\u001b[0m\u001b[0;34m'gray'\u001b[0m\u001b[0;34m)\u001b[0m\u001b[0;34m\u001b[0m\u001b[0;34m\u001b[0m\u001b[0m\n\u001b[1;32m      4\u001b[0m \u001b[0mplt\u001b[0m\u001b[0;34m.\u001b[0m\u001b[0mtitle\u001b[0m\u001b[0;34m(\u001b[0m\u001b[0;34m'Original Image'\u001b[0m\u001b[0;34m)\u001b[0m\u001b[0;34m\u001b[0m\u001b[0;34m\u001b[0m\u001b[0m\n\u001b[1;32m      5\u001b[0m \u001b[0;34m\u001b[0m\u001b[0m\n",
            "\u001b[0;31mNameError\u001b[0m: name 'plt' is not defined"
          ]
        }
      ]
    }
  ]
}